{
 "cells": [
  {
   "cell_type": "code",
   "execution_count": 2,
   "metadata": {},
   "outputs": [
    {
     "name": "stdout",
     "output_type": "stream",
     "text": [
      "[3, 5, 6, 10, 20, 40]\n"
     ]
    }
   ],
   "source": [
    "def merge(a,b):\n",
    "    n1=len(a)\n",
    "    n2=len(b)\n",
    "    m=n1+n2\n",
    "    c=[0 for i in range(m)]\n",
    "    i=0\n",
    "    j=0\n",
    "    k=0\n",
    "    while i<n1 and j<n2:\n",
    "\n",
    "        if int(a[i])<int(b[j]):\n",
    "            c[k]=int(a[i])\n",
    "            i+=1\n",
    "        elif int(a[i])>int(b[j]):\n",
    "            c[k]=int(b[j])\n",
    "            j+=1\n",
    "        k+=1\n",
    "\n",
    "    while i<n1:\n",
    "        c[k]=int(a[i])\n",
    "        i+=1\n",
    "        k+=1\n",
    "    while j<n2:\n",
    "        c[k]=int(b[j])\n",
    "        j+=1\n",
    "        k+=1\n",
    "    return c\n",
    "\n",
    "def mergeSort(d):\n",
    "    n=len(d)\n",
    "    if n<=1:\n",
    "        return d\n",
    "    a=mergeSort(d[:n//2])\n",
    "    b=mergeSort(d[n//2:])\n",
    "    return merge(a,b)\n",
    "\n",
    "a=open('input4.txt', 'r')\n",
    "e=a.readline()\n",
    "d=a.readline().split()\n",
    "\n",
    "var=mergeSort(d)\n",
    "print(var)\n",
    "out=open('output4.txt', 'a')\n",
    "for i in var:\n",
    "    out.write(f\"{i} \")"
   ]
  },
  {
   "cell_type": "code",
   "execution_count": 1,
   "metadata": {},
   "outputs": [
    {
     "name": "stdout",
     "output_type": "stream",
     "text": [
      "[20]\n",
      "[40]\n",
      "[6]\n",
      "[5, 6]\n",
      "[3, 5, 6, 40]\n"
     ]
    },
    {
     "data": {
      "text/plain": [
       "[3, 5, 6, 10, 20, 40]"
      ]
     },
     "execution_count": 1,
     "metadata": {},
     "output_type": "execute_result"
    }
   ],
   "source": [
    "def merge(part_one,part_two):\n",
    "    n1,n2=len(part_one),len(part_two)\n",
    "    merge_array=[0]*(n1+n2)\n",
    "    i = 0\n",
    "    j = 0\n",
    "    k = 0\n",
    "    while (i < n1 and j < n2):\n",
    "        \n",
    "        if part_one[i] <= part_two[j]:\n",
    "            merge_array[k] = part_one[i]\n",
    "            i = i + 1\n",
    "        else:\n",
    "            merge_array[k] = part_two[j]\n",
    "            j = j + 1\n",
    "        k = k + 1\n",
    "    if i < n1:\n",
    "        merge_array[k] = part_one[i]\n",
    "        k = k + 1\n",
    "        i = i + 1\n",
    "    while (j < n2):\n",
    "        merge_array[k] = part_two[j]\n",
    "        k = k + 1\n",
    "        j = j + 1\n",
    "    return merge_array\n",
    "def merge_sort(array,length):\n",
    "    if length <=1:\n",
    "        return array\n",
    "    part_one=merge_sort(array[:length//2],len(array[:length//2]))\n",
    "\n",
    "    part_two=merge_sort(array[length//2:],len(array[length//2:]))\n",
    "    print(part_two)\n",
    "    return merge(part_one,part_two)\n",
    "\n",
    "merge_array=[4, 20, 34, 36, 41, 79]\n",
    "# file = open(\"input4.txt\",\"r\")\n",
    "# file=[int(i) for i in file.read().split()]\n",
    "# print(file)\n",
    "\n",
    "# merge_array= file[1:]\n",
    "# print(merge_array)\n",
    "merge_sort([10, 20, 3, 40, 5, 6],len(merge_array)-1)\n",
    "# merge_sort([5,-1,10,2,8],len(merge_array) - 1)"
   ]
  },
  {
   "cell_type": "code",
   "execution_count": 4,
   "metadata": {},
   "outputs": [
    {
     "name": "stdout",
     "output_type": "stream",
     "text": [
      "1\n",
      "2\n",
      "3\n",
      "4\n",
      "7\n",
      "[4, 20, 34, 36, 41, 79]\n"
     ]
    }
   ],
   "source": [
    "co=0\n",
    "def merge(a,b):\n",
    "    n1,n2=len(a),len(b)\n",
    "    c=[0]*(n1+n2)\n",
    "    i=0\n",
    "    j=0\n",
    "    k=0\n",
    "    while len(a[i:])!=0 and len(b[j:])!=0 :\n",
    "        global co\n",
    "        co+=1\n",
    "        if a[i]<=b[j]:\n",
    "            c[k]=a[i]\n",
    "            i+=1\n",
    "        else:\n",
    "            c[k]=b[j]\n",
    "            j+=1\n",
    "        k+=1\n",
    "    print(co)\n",
    "    if i<n1:\n",
    "        c[k:]=a[i:]\n",
    "    if j<n2:\n",
    "        c[k:]=b[j:]\n",
    "    return c\n",
    "def merge_sort(array):\n",
    "    if len(array)==1:\n",
    "        return array\n",
    "    a1=merge_sort(array[:len(array)//2])\n",
    "    a2=merge_sort(array[len(array)//2:])\n",
    "    return merge(a1,a2)\n",
    "\n",
    "# file = open(\"input4.txt\",\"r\")\n",
    "# file=[int(i) for i in file.read().split()]\n",
    "# file = open(\"input4.txt\",\"r\")\n",
    "# file=[int(i) for i in file.read().split()]\n",
    "merge_array= [4, 20, 34, 36, 41, 79]\n",
    "print(merge_sort(merge_array))"
   ]
  },
  {
   "cell_type": "code",
   "execution_count": null,
   "metadata": {},
   "outputs": [],
   "source": []
  }
 ],
 "metadata": {
  "kernelspec": {
   "display_name": "Python 3",
   "language": "python",
   "name": "python3"
  },
  "language_info": {
   "codemirror_mode": {
    "name": "ipython",
    "version": 3
   },
   "file_extension": ".py",
   "mimetype": "text/x-python",
   "name": "python",
   "nbconvert_exporter": "python",
   "pygments_lexer": "ipython3",
   "version": "3.7.6"
  }
 },
 "nbformat": 4,
 "nbformat_minor": 4
}
