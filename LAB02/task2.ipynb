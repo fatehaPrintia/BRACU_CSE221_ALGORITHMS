{
 "cells": [
  {
   "cell_type": "code",
   "execution_count": 1,
   "metadata": {
    "scrolled": true
   },
   "outputs": [],
   "source": [
    "a=open('input2.txt', 'r')\n",
    "x=a.readline().split()\n",
    "val=a.readline().split()\n",
    "for i in range(int(x[1])):\n",
    "    m=i\n",
    "    for j in range(i+1,len(val)):\n",
    "        if int(val[m])>int(val[j]):\n",
    "            m=j\n",
    "    val[i],val[m]=val[m],val[i]\n",
    "\n",
    "out = open('output2.txt','a')\n",
    "for i in range(int(x[1])):\n",
    "    out.write(f\"{val[i]}  \")"
   ]
  },
  {
   "cell_type": "code",
   "execution_count": null,
   "metadata": {},
   "outputs": [],
   "source": []
  },
  {
   "cell_type": "code",
   "execution_count": null,
   "metadata": {},
   "outputs": [],
   "source": []
  }
 ],
 "metadata": {
  "kernelspec": {
   "display_name": "Python 3",
   "language": "python",
   "name": "python3"
  },
  "language_info": {
   "codemirror_mode": {
    "name": "ipython",
    "version": 3
   },
   "file_extension": ".py",
   "mimetype": "text/x-python",
   "name": "python",
   "nbconvert_exporter": "python",
   "pygments_lexer": "ipython3",
   "version": "3.7.6"
  }
 },
 "nbformat": 4,
 "nbformat_minor": 4
}
