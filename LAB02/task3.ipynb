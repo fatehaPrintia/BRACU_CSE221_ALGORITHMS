{
 "cells": [
  {
   "cell_type": "code",
   "execution_count": 1,
   "metadata": {},
   "outputs": [],
   "source": [
    "a=open('input3.txt', 'r')\n",
    "b=a.readline()\n",
    "student_id=a.readline().split()\n",
    "marks=a.readline().split()\n",
    "def insertion_sort(marks):\n",
    "    for i in range(0,len(marks)):\n",
    "        for j in range(i-1,-1,-1):\n",
    "            if (int(marks[j])<int(marks[j+1])):\n",
    "                temp1=marks[j]\n",
    "                marks[j]=marks[j+1]\n",
    "                marks[j+1]=temp1\n",
    "                \n",
    "                temp=student_id[j]\n",
    "                student_id[j]=student_id[j+1]\n",
    "                student_id[j+1]=temp\n",
    "\n",
    "insertion_sort(marks)\n",
    "                \n",
    "out=open('output3.txt', 'a')\n",
    "for i in student_id:\n",
    "    out.write(f\"{i} \")\n",
    "    "
   ]
  },
  {
   "cell_type": "code",
   "execution_count": 4,
   "metadata": {},
   "outputs": [
    {
     "data": {
      "text/plain": [
       "4.493409457909064"
      ]
     },
     "execution_count": 4,
     "metadata": {},
     "output_type": "execute_result"
    }
   ],
   "source": [
    "from math import tan\n",
    "\n",
    "\n",
    "def fxx(x):\n",
    "    return (1 / tan(x)) - (1 / x) + x\n",
    "fxx(4.493409458)"
   ]
  },
  {
   "cell_type": "code",
   "execution_count": null,
   "metadata": {},
   "outputs": [],
   "source": []
  },
  {
   "cell_type": "code",
   "execution_count": null,
   "metadata": {},
   "outputs": [],
   "source": []
  },
  {
   "cell_type": "code",
   "execution_count": null,
   "metadata": {},
   "outputs": [],
   "source": []
  }
 ],
 "metadata": {
  "kernelspec": {
   "display_name": "Python 3",
   "language": "python",
   "name": "python3"
  },
  "language_info": {
   "codemirror_mode": {
    "name": "ipython",
    "version": 3
   },
   "file_extension": ".py",
   "mimetype": "text/x-python",
   "name": "python",
   "nbconvert_exporter": "python",
   "pygments_lexer": "ipython3",
   "version": "3.7.6"
  }
 },
 "nbformat": 4,
 "nbformat_minor": 4
}
