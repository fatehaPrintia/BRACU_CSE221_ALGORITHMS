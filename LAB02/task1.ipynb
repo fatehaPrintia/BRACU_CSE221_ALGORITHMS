{
 "cells": [
  {
   "cell_type": "code",
   "execution_count": 2,
   "metadata": {},
   "outputs": [
    {
     "data": {
      "text/plain": [
       "\"Here the given bubbleSort's time complexity was 0(n^2).The best-case scenario here can be: the given array would be \\nalready sorted.So, if the given array is already sorted, we need to check if the array is already sorted or not,\\nand for that the inner loop will run only n times.Here i used a counter(count) which will determine if the given array is \\nsorted or not, if the counter remains 0, that means it's sorted and it will terminate the sorting function and return the \\narray.Therefore, the time complexity for this case will be θ(n), as it is running only n*1=n times.\""
      ]
     },
     "execution_count": 2,
     "metadata": {},
     "output_type": "execute_result"
    }
   ],
   "source": [
    "a = open('input1.txt', 'r')\n",
    "x = a.readline()\n",
    "#10 20 5 15 25 30(input)\n",
    "arr = a.readline().split()\n",
    "def bubbleSort(arr):\n",
    "    count=0\n",
    "    for i in range(len(arr)-1):\n",
    "        for j in range(len(arr)-i-1):\n",
    "            if int(arr[j])>int(arr[j+1]):\n",
    "                count+=1\n",
    "                arr[j],arr[j+1]=arr[j+1],arr[j]\n",
    "                \n",
    "        if count==0:                 #best case scenario\n",
    "            return arr\n",
    "bubbleSort(arr)\n",
    "out = open('output1.txt', 'a')\n",
    "#5 10 15 20 25 30 (output)\n",
    "for i in arr:\n",
    "    out.write(f\"{i} \")\n",
    "    \n",
    "'''Here the given bubbleSort's time complexity was 0(n^2).The best-case scenario here can be: the given array would be \n",
    "already sorted.So, if the given array is already sorted, we need to check if the array is already sorted or not,\n",
    "and for that the inner loop will run only n times.Here i used a counter(count) which will determine if the given array is \n",
    "sorted or not, if the counter remains 0, that means it's sorted and it will terminate the sorting function and return the \n",
    "array.Therefore, the time complexity for this case will be θ(n), as it is running only n*1=n times.'''\n",
    "\n"
   ]
  },
  {
   "cell_type": "code",
   "execution_count": null,
   "metadata": {},
   "outputs": [],
   "source": []
  }
 ],
 "metadata": {
  "kernelspec": {
   "display_name": "Python 3",
   "language": "python",
   "name": "python3"
  },
  "language_info": {
   "codemirror_mode": {
    "name": "ipython",
    "version": 3
   },
   "file_extension": ".py",
   "mimetype": "text/x-python",
   "name": "python",
   "nbconvert_exporter": "python",
   "pygments_lexer": "ipython3",
   "version": "3.7.6"
  }
 },
 "nbformat": 4,
 "nbformat_minor": 4
}
