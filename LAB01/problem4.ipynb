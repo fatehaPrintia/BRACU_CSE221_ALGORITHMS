{
 "cells": [
  {
   "cell_type": "code",
   "execution_count": 3,
   "metadata": {},
   "outputs": [
    {
     "name": "stdout",
     "output_type": "stream",
     "text": [
      "[[46, 47, 71], [31, 33, 48], [61, 53, 89]]\n"
     ]
    }
   ],
   "source": [
    "file=open(\"input4.txt\",\"r\")\n",
    "A=[]\n",
    "B=[]\n",
    "curr=A\n",
    "n=int(file.readline())\n",
    "\n",
    "for line in file.readlines():\n",
    "    if \",\" not in line:\n",
    "        curr=B\n",
    "    else:\n",
    "        curr.append([])\n",
    "        for i in line.split(\",\"):\n",
    "            curr[len(curr)-1].append(int(i))\n",
    "\n",
    "mat=[[0 for x in range(n)] for y in range(n)]\n",
    "\n",
    "for i in range(len(A)):\n",
    "    for j in range(len(B[0])):\n",
    "        for k in range(len(B)):\n",
    "            mat[i][j]+=A[i][k]*B[k][j]\n",
    "            \n",
    "print(mat)\n",
    "out=open(\"output4.txt\",\"a\")\n",
    "for i in range(len(mat)):\n",
    "    for j in mat[i]:\n",
    "        out.write(f\"{int(j)} \")\n",
    "    out.write(f\" \\n \")"
   ]
  },
  {
   "cell_type": "code",
   "execution_count": null,
   "metadata": {},
   "outputs": [],
   "source": []
  }
 ],
 "metadata": {
  "kernelspec": {
   "display_name": "Python 3",
   "language": "python",
   "name": "python3"
  },
  "language_info": {
   "codemirror_mode": {
    "name": "ipython",
    "version": 3
   },
   "file_extension": ".py",
   "mimetype": "text/x-python",
   "name": "python",
   "nbconvert_exporter": "python",
   "pygments_lexer": "ipython3",
   "version": "3.7.6"
  }
 },
 "nbformat": 4,
 "nbformat_minor": 4
}
