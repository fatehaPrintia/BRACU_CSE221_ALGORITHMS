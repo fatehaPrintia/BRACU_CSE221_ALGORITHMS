{
 "cells": [
  {
   "cell_type": "code",
   "execution_count": 1,
   "metadata": {
    "scrolled": true
   },
   "outputs": [],
   "source": [
    "zones = {\"Y\": \"Yasnaya\", \"P\": \"Pochinki\", \"S\": \"School\", \"R\": \"Rozhok\", \"F\": \"Farm\", \"M\": \"Mylta\", \"H\": \"Shelter\", \"I\": \"Prison\"}\n",
    "file=open(\"task1 input.txt\",\"r\")\n",
    "noOfzone=int(file.readline())\n",
    "X=file.readline()\n",
    "Y=file.readline()\n",
    "output=open(\"output_task1.txt\",\"a\")\n",
    "\n",
    "def LCS(X,Y):\n",
    "    m=len(X)\n",
    "    n=len(Y)\n",
    "    c=[[0 for i in range(n+1)]for j in range(m+1)]\n",
    "    for i in range(m+1):\n",
    "        for j in range(n+1):\n",
    "            if i==0 or j==0:\n",
    "                c[i][j]=0\n",
    "            elif X[i-1]==Y[j-1]:\n",
    "                c[i][j]=c[i-1][j-1]+1\n",
    "            else:\n",
    "                c[i][j]=max(c[i-1][j],c[i][j-1])\n",
    "\n",
    "    seq=\"\"\n",
    "    while m>0 and n>0:\n",
    "        if X[m-1]==Y[n-1]:\n",
    "            seq=X[m-1]+seq\n",
    "            m-=1\n",
    "            n-=1\n",
    "        elif c[m-1][n]>c[m][n-1]:\n",
    "            m-=1\n",
    "        else:\n",
    "            n-=1\n",
    "    for i in seq:\n",
    "        output.write(f'{zones[i]} ')\n",
    "    output.write(f'\\n')\n",
    "    \n",
    "    correctness=(len(seq)*100)/len(zones)\n",
    "    output.write(f'Correctness of prediction: {int(correctness)}%')\n",
    "             \n",
    "LCS(X,Y)\n",
    "        "
   ]
  },
  {
   "cell_type": "code",
   "execution_count": 5,
   "metadata": {},
   "outputs": [
    {
     "name": "stdout",
     "output_type": "stream",
     "text": [
      "[[0, 0, 0, 0, 0, 0, 0, 0], [0, 1, 1, 1, 1, 1, 1, 1], [0, 1, 2, 2, 2, 2, 2, 2], [0, 1, 2, 2, 2, 2, 2, 3], [0, 1, 2, 3, 3, 3, 3, 3], [0, 1, 2, 3, 4, 4, 4, 4], [0, 1, 2, 3, 4, 5, 5, 5], [0, 1, 2, 3, 4, 5, 6, 6], [0, 1, 2, 3, 4, 5, 6, 7]]\n",
      "ggcccta\n"
     ]
    }
   ],
   "source": [
    "\n",
    "\n",
    "def LCS(X,Y):\n",
    "    m=len(X)\n",
    "    n=len(Y)\n",
    "    c=[[0 for i in range(n+1)]for j in range(m+1)]\n",
    "  \n",
    "    for i in range(m+1):\n",
    "        for j in range(n+1):\n",
    "            if i==0 or j==0:\n",
    "                c[i][j]=0\n",
    "            elif X[i-1]==Y[j-1]:\n",
    "                c[i][j]=c[i-1][j-1]+1\n",
    "            else:\n",
    "                c[i][j]=max(c[i-1][j],c[i][j-1])\n",
    "    print(c)\n",
    "\n",
    "    seq=\"\"\n",
    "    while m>0 and n>0:\n",
    "        if X[m-1]==Y[n-1]:\n",
    "            seq=X[m-1]+seq\n",
    "            m-=1\n",
    "            n-=1\n",
    "        elif c[m-1][n]>c[m][n-1]:\n",
    "            m-=1\n",
    "        else:\n",
    "            n-=1\n",
    "    print(seq)\n",
    "    \n",
    "\n",
    "             \n",
    "LCS(\"ggacccta\",'ggcccta')\n",
    "        "
   ]
  },
  {
   "cell_type": "code",
   "execution_count": null,
   "metadata": {},
   "outputs": [],
   "source": [
    "\n",
    "\n",
    "def LCS(X,Y):\n",
    "    m=len(X)\n",
    "    n=len(Y)\n",
    "    c=[[0 for i in range(n+1)]for j in range(m+1)]\n",
    "  \n",
    "    for i in range(m+1):\n",
    "        for j in range(n+1):\n",
    "            if i==0 or j==0:\n",
    "                c[i][j]=0\n",
    "            elif X[i-1]==Y[j-1]:\n",
    "                c[i][j]=c[i-1][j-1]+1\n",
    "            else:\n",
    "                c[i][j]=max(c[i-1][j],c[i][j-1])\n",
    "\n",
    "             \n",
    "LCS(X,Y)\n",
    "        "
   ]
  }
 ],
 "metadata": {
  "kernelspec": {
   "display_name": "Python 3",
   "language": "python",
   "name": "python3"
  },
  "language_info": {
   "codemirror_mode": {
    "name": "ipython",
    "version": 3
   },
   "file_extension": ".py",
   "mimetype": "text/x-python",
   "name": "python",
   "nbconvert_exporter": "python",
   "pygments_lexer": "ipython3",
   "version": "3.7.6"
  }
 },
 "nbformat": 4,
 "nbformat_minor": 4
}
