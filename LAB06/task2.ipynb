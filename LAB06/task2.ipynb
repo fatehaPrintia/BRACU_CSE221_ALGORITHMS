{
 "cells": [
  {
   "cell_type": "code",
   "execution_count": 23,
   "metadata": {},
   "outputs": [],
   "source": [
    "file=open(\"task2 input.txt\",\"r\")\n",
    "X=file.readline()\n",
    "Y=file.readline()\n",
    "Z=file.readline()\n",
    "\n",
    "output=open(\"task2 output.txt\",\"a\")\n",
    "\n",
    "def LCS(X,Y,Z):\n",
    "    m=len(X)\n",
    "    n=len(Y)\n",
    "    o=len(Z)\n",
    "    c=[[[0 for i in range(o+1)]for j in range(n+1)]for k in range(m+1)]\n",
    "    \n",
    "    for i in range(m+1):\n",
    "        for j in range(n+1):\n",
    "            for k in range(o+1):\n",
    "                if i==0 or j==0 or k==0:\n",
    "                    c[i][j][k]=0\n",
    "                    \n",
    "                elif X[i-1]==Y[j-1] and X[i-1]==Z[k-1] :\n",
    "                    \n",
    "                    c[i][j][k]=c[i-1][j-1][k-1]+1\n",
    "                else:\n",
    "                    c[i][j][k]=max(max(c[i-1][j][k],c[i][j-1][k]),c[i][j][k-1])\n",
    "\n",
    "    output.write(f\"{c[m][n][o]}\")\n",
    "\n",
    "        \n",
    "LCS(X,Y,Z)\n",
    "        "
   ]
  },
  {
   "cell_type": "code",
   "execution_count": 14,
   "metadata": {},
   "outputs": [
    {
     "name": "stdout",
     "output_type": "stream",
     "text": [
      "[-1, 1, 2, -1, -1, -1, -1, -1, -1, -1, -1]\n",
      "[-1, 1, 2, 3, -1, -1, -1, -1, -1, -1, -1]\n",
      "[-1, 1, 2, 3, 4, -1, -1, -1, -1, -1, -1]\n",
      "[-1, 1, 2, 3, 4, 5, -1, -1, -1, -1, -1]\n",
      "[-1, 1, 2, 3, 4, 5, 6, -1, -1, -1, -1]\n",
      "[-1, 1, 2, 3, 4, 5, 6, 7, -1, -1, -1]\n",
      "[-1, 1, 2, 3, 4, 5, 6, 7, 8, -1, -1]\n",
      "[-1, 1, 2, 3, 4, 5, 6, 7, 8, 9, -1]\n",
      "[-1, 1, 2, 3, 4, 5, 6, 7, 8, 9, 10]\n",
      "[-1, 1, 1, 2, 4, 5, 6, 7, 8, 9, 10]\n",
      "[-1, 1, 1, 2, 2, 5, 6, 7, 8, 9, 10]\n",
      "[-1, 1, 1, 2, 2, 3, 6, 7, 8, 9, 10]\n",
      "[-1, 1, 1, 2, 2, 3, 3, 7, 8, 9, 10]\n",
      "[-1, 1, 1, 2, 2, 3, 3, 4, 8, 9, 10]\n",
      "[-1, 1, 1, 2, 2, 3, 3, 4, 4, 9, 10]\n",
      "[-1, 1, 1, 2, 2, 3, 3, 4, 4, 5, 10]\n",
      "[-1, 1, 1, 2, 2, 3, 3, 4, 4, 5, 5]\n",
      "[-1, 1, 1, 2, 2, 1, 2, 4, 4, 5, 5]\n",
      "[-1, 1, 1, 2, 2, 1, 2, 2, 4, 5, 5]\n",
      "[-1, 1, 1, 2, 2, 1, 2, 2, 3, 5, 5]\n",
      "[-1, 1, 1, 2, 2, 1, 2, 2, 3, 3, 5]\n",
      "[-1, 1, 1, 2, 2, 1, 2, 2, 3, 3, 2]\n",
      "[-1, 1, 1, 2, 2, 1, 2, 2, 3, 1, 2]\n",
      "2\n"
     ]
    }
   ],
   "source": [
    "class Solution(object):\n",
    "   def coinChange(self, coins, amount):\n",
    "      if amount == 0 :\n",
    "            return 0\n",
    "      if min(coins) > amount:\n",
    "         return -1\n",
    "      dp = [-1 for i in range(0, amount + 1)]\n",
    "      for i in coins:\n",
    "         if i > len(dp) - 1:\n",
    "            continue\n",
    "         dp[i] = 1\n",
    "         for j in range(i + 1, amount + 1):\n",
    "            if dp[j - i] == -1:\n",
    "               continue\n",
    "            elif dp[j] == -1:\n",
    "               dp[j] = dp[j - i] + 1\n",
    "            else:\n",
    "               dp[j] = min(dp[j], dp[j - i] + 1)\n",
    "            print(dp)\n",
    "        \n",
    "      return dp[amount]\n",
    "ob1 = Solution()\n",
    "print(ob1.coinChange([1,2,5,9], 10))"
   ]
  },
  {
   "cell_type": "code",
   "execution_count": null,
   "metadata": {},
   "outputs": [],
   "source": []
  }
 ],
 "metadata": {
  "kernelspec": {
   "display_name": "Python 3",
   "language": "python",
   "name": "python3"
  },
  "language_info": {
   "codemirror_mode": {
    "name": "ipython",
    "version": 3
   },
   "file_extension": ".py",
   "mimetype": "text/x-python",
   "name": "python",
   "nbconvert_exporter": "python",
   "pygments_lexer": "ipython3",
   "version": "3.7.6"
  }
 },
 "nbformat": 4,
 "nbformat_minor": 4
}
