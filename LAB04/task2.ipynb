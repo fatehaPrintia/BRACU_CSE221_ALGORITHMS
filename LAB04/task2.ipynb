{
 "cells": [
  {
   "cell_type": "code",
   "execution_count": 2,
   "metadata": {
    "scrolled": true
   },
   "outputs": [],
   "source": [
    "def Dijkstra(Graph,source):\n",
    "    dist={}\n",
    "    prev=Graph\n",
    "    for i in prev:\n",
    "        dist[i]=float(\"infinity\")\n",
    "    dist[source]=0\n",
    "    Predecessor={}\n",
    "    path=[]\n",
    "    while prev:\n",
    "        min_v=None\n",
    "        for i in prev:\n",
    "            if min_v==None:\n",
    "                min_v=i\n",
    "            elif dist[i]<dist[min_v]:\n",
    "                min_v=i\n",
    "        visited=Graph[min_v].items()\n",
    "        for neighbor,weight in visited:\n",
    "            if dist[min_v]+weight<dist[neighbor]:\n",
    "                dist[neighbor]=dist[min_v]+ weight\n",
    "                Predecessor[neighbor]=min_v\n",
    "        prev.pop(min_v)\n",
    "        \n",
    "    key = destiny\n",
    "    while key!= source:\n",
    "        path.insert(0, key)\n",
    "        key = Predecessor[key]\n",
    "    path.insert(0, source)\n",
    "    for i in path:\n",
    "        output.write(f\"{i} \")\n",
    "    output.write(f\"\\n\")\n",
    "    \n",
    "Graph={}\n",
    "a=open(\"input2.txt\",\"r\")\n",
    "b=int(a.readline())\n",
    "output=open(\"output2.txt\",\"a\")     \n",
    "for i in range(b):\n",
    "    c=a.readline().split()\n",
    "    if c[1]==\"0\":\n",
    "\n",
    "        output.write(f\"{c[0]}\\n\")\n",
    "        continue\n",
    "    elif c[1]==\"1\":\n",
    "        c=a.readline().split()\n",
    "        output.write(f\"{c[0]} {c[1]}\\n\")\n",
    "        continue\n",
    "    else:\n",
    "        destiny=int(c[0])\n",
    "        Graph[destiny]={}\n",
    "        for i in range(int(c[1])):\n",
    "            x=a.readline().split()\n",
    "            if int(x[0]) in Graph.keys():\n",
    "                Graph[int(x[0])].update(dict(zip([int(x[1])],[int(x[2])])))\n",
    "                continue\n",
    "            Graph[int(x[0])]={}\n",
    "            Graph[int(x[0])].update(dict(zip([int(x[1])],[int(x[2])])))\n",
    "        Dijkstra(Graph,1)"
   ]
  },
  {
   "cell_type": "code",
   "execution_count": null,
   "metadata": {},
   "outputs": [],
   "source": []
  }
 ],
 "metadata": {
  "kernelspec": {
   "display_name": "Python 3",
   "language": "python",
   "name": "python3"
  },
  "language_info": {
   "codemirror_mode": {
    "name": "ipython",
    "version": 3
   },
   "file_extension": ".py",
   "mimetype": "text/x-python",
   "name": "python",
   "nbconvert_exporter": "python",
   "pygments_lexer": "ipython3",
   "version": "3.7.6"
  }
 },
 "nbformat": 4,
 "nbformat_minor": 4
}
