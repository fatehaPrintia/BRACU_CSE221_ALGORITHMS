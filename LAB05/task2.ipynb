{
 "cells": [
  {
   "cell_type": "code",
   "execution_count": 3,
   "metadata": {
    "scrolled": true
   },
   "outputs": [],
   "source": [
    "a=open(\"task2_input.txt\",\"r\")\n",
    "n=a.readline().split()\n",
    "N=int(n[0])\n",
    "M=int(n[1])\n",
    "arr=[]\n",
    "arr1=[]\n",
    "\n",
    "for i in range(N):\n",
    "    arr=a.readline().split()\n",
    "    arr[0],arr[1]=int(arr[0]),int(arr[1])\n",
    "    arr1.append(arr)\n",
    "    \n",
    "\n",
    "output=open(\"task2_output.txt\",\"a\")\n",
    "def assignment_Selection(arr1,N,M):\n",
    "    selected=[]\n",
    "    for i in range(N):\n",
    "        for j in range(i+1):\n",
    "            if arr1[i][1]<arr1[j][1]:\n",
    "                arr1[i],arr1[j]=arr1[j],arr1[i]\n",
    "    \n",
    "    for i in range(M):\n",
    "        new=[]\n",
    "        selected.append(arr1[0])\n",
    "        f=arr1[0][1]\n",
    "        \n",
    "        for c in range(len(arr1)):\n",
    "            if arr1[c][0]>=f:\n",
    "                f=arr1[c][1]\n",
    "                selected.append(arr1[c])\n",
    "                \n",
    "        for i in arr1:\n",
    "            if i not in selected:\n",
    "                    new.append(i)         \n",
    "        arr1=new\n",
    "    count=len(selected)\n",
    "    output.write(f\"{count}\\n\")\n",
    "    \n",
    "assignment_Selection(arr1,N,M)   "
   ]
  },
  {
   "cell_type": "code",
   "execution_count": null,
   "metadata": {},
   "outputs": [],
   "source": []
  },
  {
   "cell_type": "code",
   "execution_count": null,
   "metadata": {},
   "outputs": [],
   "source": []
  }
 ],
 "metadata": {
  "kernelspec": {
   "display_name": "Python 3",
   "language": "python",
   "name": "python3"
  },
  "language_info": {
   "codemirror_mode": {
    "name": "ipython",
    "version": 3
   },
   "file_extension": ".py",
   "mimetype": "text/x-python",
   "name": "python",
   "nbconvert_exporter": "python",
   "pygments_lexer": "ipython3",
   "version": "3.7.6"
  }
 },
 "nbformat": 4,
 "nbformat_minor": 4
}
