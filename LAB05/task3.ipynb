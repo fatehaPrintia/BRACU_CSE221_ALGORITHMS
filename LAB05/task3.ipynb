{
 "cells": [
  {
   "cell_type": "code",
   "execution_count": 7,
   "metadata": {},
   "outputs": [],
   "source": [
    "a=open(\"task3_input.txt\",\"r\")\n",
    "n=int(a.readline())\n",
    "arr=a.readline().split()\n",
    "arr1=[]\n",
    "for i in arr:\n",
    "    arr1.append(int(i))\n",
    "\n",
    "cll=a.readline()\n",
    "output=open(\"task3_output.txt\",\"a\")\n",
    "def chores_Selection(arr1,cll):\n",
    "    arr1.sort()\n",
    "    choosen=[]\n",
    "    ind=0\n",
    "    jack=0\n",
    "    jill=0\n",
    "    sequence=\"\"\n",
    "    for c in cll:\n",
    "        if c==\"J\":\n",
    "            val=arr1[ind]\n",
    "            choosen.append(val)\n",
    "            sequence+=str(val)\n",
    "            ind+=1\n",
    "            jack+=val\n",
    "        elif c==\"j\":\n",
    "            choosen.sort()\n",
    "            p=choosen.pop()\n",
    "            sequence+=str(p)\n",
    "            jill+=p\n",
    "            \n",
    "    output.write(f'{sequence}\\n')\n",
    "    output.write(f'Jack will work for {jack} hours\\n')\n",
    "    output.write(f'Jill will work for {jill} hours\\n')\n",
    "\n",
    "            \n",
    "        \n",
    "chores_Selection(arr1,cll)   "
   ]
  },
  {
   "cell_type": "code",
   "execution_count": null,
   "metadata": {},
   "outputs": [],
   "source": []
  }
 ],
 "metadata": {
  "kernelspec": {
   "display_name": "Python 3",
   "language": "python",
   "name": "python3"
  },
  "language_info": {
   "codemirror_mode": {
    "name": "ipython",
    "version": 3
   },
   "file_extension": ".py",
   "mimetype": "text/x-python",
   "name": "python",
   "nbconvert_exporter": "python",
   "pygments_lexer": "ipython3",
   "version": "3.7.6"
  }
 },
 "nbformat": 4,
 "nbformat_minor": 4
}
