{
 "cells": [
  {
   "cell_type": "code",
   "execution_count": 3,
   "metadata": {},
   "outputs": [],
   "source": [
    "a=open(\"task1_input.txt\",\"r\")\n",
    "n=int(a.readline())\n",
    "arr=[]\n",
    "arr1=[]\n",
    "for i in range(n):\n",
    "    arr=a.readline().split()\n",
    "    arr[0],arr[1]=int(arr[0]),int(arr[1])\n",
    "    arr1.append(arr)\n",
    "    \n",
    "output=open(\"Task1_output.txt\",\"a\")\n",
    "def assignment_Selection(arr1,n):\n",
    "    selected=[]\n",
    "    for i in range(n):\n",
    "        for j in range(i+1):\n",
    "            if arr1[i][1]<arr1[j][1]:\n",
    "                arr1[i],arr1[j]=arr1[j],arr1[i]\n",
    "    selected.append(arr1[0])\n",
    "    count=1\n",
    "    f=arr1[0][1]\n",
    "    for c in range(n):\n",
    "        if arr1[c][0]>=f:\n",
    "            count+=1\n",
    "            f=arr1[c][1]\n",
    "            selected.append(arr1[c])\n",
    "            \n",
    "    output.write(f\"{count}\\n\")\n",
    "    for val in selected:\n",
    "        output.write(f\"{val[0]} {val[1]}\\n\")\n",
    "        \n",
    "assignment_Selection(arr1,n)   "
   ]
  },
  {
   "cell_type": "code",
   "execution_count": null,
   "metadata": {},
   "outputs": [],
   "source": []
  }
 ],
 "metadata": {
  "kernelspec": {
   "display_name": "Python 3",
   "language": "python",
   "name": "python3"
  },
  "language_info": {
   "codemirror_mode": {
    "name": "ipython",
    "version": 3
   },
   "file_extension": ".py",
   "mimetype": "text/x-python",
   "name": "python",
   "nbconvert_exporter": "python",
   "pygments_lexer": "ipython3",
   "version": "3.7.6"
  }
 },
 "nbformat": 4,
 "nbformat_minor": 4
}
