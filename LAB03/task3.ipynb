{
 "cells": [
  {
   "cell_type": "code",
   "execution_count": 4,
   "metadata": {},
   "outputs": [],
   "source": [
    "graph={}\n",
    "file=open(\"input.txt\",\"r\")\n",
    "Nodes=int(file.readline())\n",
    "\n",
    "for i in range(1,Nodes+1):\n",
    "    graph[str(i)]=file.readline().split()[1:]\n",
    "    \n",
    "visited=[0]*Nodes\n",
    "printed=[]\n",
    "def DFS_VISIT(graph, node):\n",
    "    visited[int(node)-1]=1\n",
    "\n",
    "    printed.append(node)\n",
    "    \n",
    "    for i in graph[node]:\n",
    "        if i not in visited and i not in printed:\n",
    "            DFS_VISIT(graph, i)\n",
    "                \n",
    "out=open('outpu3.txt','a')          \n",
    "def DFS (graph, endPoint):\n",
    "\n",
    "    for i in graph:\n",
    "        if i not in visited and i not in printed:\n",
    "            DFS_VISIT(graph, i)\n",
    "    out.write(f\"Places:\")\n",
    "    for j in printed:\n",
    "        out.write(f\"{j } \")\n",
    "        if j==endPoint:\n",
    "            break\n",
    "            \n",
    "\n",
    "DFS(graph, \"12\")\n",
    "\n"
   ]
  },
  {
   "cell_type": "code",
   "execution_count": null,
   "metadata": {},
   "outputs": [],
   "source": []
  }
 ],
 "metadata": {
  "kernelspec": {
   "display_name": "Python 3",
   "language": "python",
   "name": "python3"
  },
  "language_info": {
   "codemirror_mode": {
    "name": "ipython",
    "version": 3
   },
   "file_extension": ".py",
   "mimetype": "text/x-python",
   "name": "python",
   "nbconvert_exporter": "python",
   "pygments_lexer": "ipython3",
   "version": "3.7.6"
  }
 },
 "nbformat": 4,
 "nbformat_minor": 4
}
