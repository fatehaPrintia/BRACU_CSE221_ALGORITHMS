{
 "cells": [
  {
   "cell_type": "code",
   "execution_count": 1,
   "metadata": {
    "scrolled": true
   },
   "outputs": [],
   "source": [
    "graph={}\n",
    "file=open(\"input.txt\",\"r\")\n",
    "total=int(file.readline())\n",
    "for i in range(1,total+1):\n",
    "    graph[str(i)]=file.readline().split()[1:]\n",
    "    \n",
    "visited=[]\n",
    "queue=[]\n",
    "out=open('output2.txt','a')\n",
    "\n",
    "def BFS(visited,graph,node,endPoint):\n",
    "    visited.append(node)\n",
    "    queue.append(node)\n",
    "    out.write(f\"Places:\")\n",
    "    while queue!=0:\n",
    "        m=queue.pop(0)\n",
    "        out.write(f\"{m } \")\n",
    "        if m==endPoint:\n",
    "            break\n",
    "        for neighbour in graph[m]:\n",
    "            if neighbour not in visited:\n",
    "                visited.append(neighbour)\n",
    "                queue.append(neighbour)\n",
    "                \n",
    "BFS(visited,graph,\"1\",\"12\")\n",
    "            \n",
    "        "
   ]
  },
  {
   "cell_type": "code",
   "execution_count": null,
   "metadata": {},
   "outputs": [],
   "source": []
  }
 ],
 "metadata": {
  "kernelspec": {
   "display_name": "Python 3",
   "language": "python",
   "name": "python3"
  },
  "language_info": {
   "codemirror_mode": {
    "name": "ipython",
    "version": 3
   },
   "file_extension": ".py",
   "mimetype": "text/x-python",
   "name": "python",
   "nbconvert_exporter": "python",
   "pygments_lexer": "ipython3",
   "version": "3.7.6"
  }
 },
 "nbformat": 4,
 "nbformat_minor": 4
}
