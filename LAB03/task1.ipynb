{
 "cells": [
  {
   "cell_type": "code",
   "execution_count": 1,
   "metadata": {},
   "outputs": [
    {
     "name": "stdout",
     "output_type": "stream",
     "text": [
      "{'1': ['2'], '2': ['3', '4', '5'], '3': ['4', '7', '11'], '4': [], '5': ['6', '7'], '6': ['7', '8'], '7': ['11'], '8': ['9', '10'], '9': ['10'], '10': ['11'], '11': ['12'], '12': []}\n"
     ]
    }
   ],
   "source": [
    "graph={}\n",
    "file=open(\"input.txt\",\"r\")\n",
    "total=int(file.readline())\n",
    "for i in range(1,total+1):\n",
    "    graph[str(i)]=file.readline().split()[1:]\n",
    "out=open('output1.txt', 'a')\n",
    "for k in graph:\n",
    "    out.write(f\"{k}:\")\n",
    "    out.write(f\"{graph[k]}\")\n",
    "    out.write(\"\\n\")\n",
    "file.close()\n",
    "print(graph)"
   ]
  },
  {
   "cell_type": "code",
   "execution_count": null,
   "metadata": {},
   "outputs": [],
   "source": []
  }
 ],
 "metadata": {
  "kernelspec": {
   "display_name": "Python 3",
   "language": "python",
   "name": "python3"
  },
  "language_info": {
   "codemirror_mode": {
    "name": "ipython",
    "version": 3
   },
   "file_extension": ".py",
   "mimetype": "text/x-python",
   "name": "python",
   "nbconvert_exporter": "python",
   "pygments_lexer": "ipython3",
   "version": "3.7.6"
  }
 },
 "nbformat": 4,
 "nbformat_minor": 4
}
